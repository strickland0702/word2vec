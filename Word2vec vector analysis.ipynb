{
 "cells": [
  {
   "cell_type": "markdown",
   "metadata": {},
   "source": [
    "# SI630 Homework 2: Word2vec Vector Analysis\n",
    "\n",
    "*Important Note:* Start this notebook only after you've gotten your word2vec model up and running!\n",
    "\n",
    "Many NLP packages support working with word embeddings. In this notebook you can work through the various problems assigned in Task 3. We've provided the basic functionality for loading word vectors using [Gensim](https://radimrehurek.com/gensim/models/keyedvectors.html), a good library for learning and using word vectors, and for working with the vectors. \n",
    "\n",
    "One of the fun parts of word vectors is getting a sense of what they learned. Feel free to explore the vectors here! "
   ]
  },
  {
   "cell_type": "code",
   "execution_count": 12,
   "metadata": {},
   "outputs": [],
   "source": [
    "from gensim.models import KeyedVectors\n",
    "from gensim.test.utils import datapath"
   ]
  },
  {
   "cell_type": "code",
   "execution_count": 13,
   "metadata": {},
   "outputs": [],
   "source": [
    "word_vectors = KeyedVectors.load_word2vec_format('word2vec_weight_med.data', binary=False)"
   ]
  },
  {
   "cell_type": "code",
   "execution_count": 14,
   "metadata": {},
   "outputs": [
    {
     "data": {
      "text/plain": [
       "array([-0.0041172 ,  0.13652432,  0.04166884, -0.19393025, -0.00663474,\n",
       "        0.18001786, -0.0801428 ,  0.40245804,  0.13151415,  0.0624693 ,\n",
       "        0.10634628,  0.28353432,  0.11042169, -0.01605607,  0.08256505,\n",
       "        0.39219746, -0.11092702,  0.19388388,  0.11200747,  0.23258185,\n",
       "       -0.10147015, -0.32964718,  0.45672575, -0.2604698 ,  0.0087484 ,\n",
       "       -0.21609078, -0.07011503,  0.15418056, -0.07643814, -0.2428526 ,\n",
       "       -0.2825639 ,  0.04538359,  0.02534867, -0.3569212 , -0.14855587,\n",
       "        0.11648662, -0.27255863, -0.12053365, -0.04893584, -0.40937024,\n",
       "        0.27876425, -0.16029464,  0.22211544,  0.13279651,  0.33708835,\n",
       "       -0.14596154,  0.14458443, -0.06939787,  0.07756472, -0.37361556,\n",
       "       -0.4815985 , -0.32931057,  0.3084443 , -0.11816235,  0.0482705 ,\n",
       "        0.01396449,  0.12008078,  0.22734572,  0.16200359,  0.2454627 ,\n",
       "        0.10973944, -0.3791624 ,  0.23891893, -0.3458776 , -0.0272899 ,\n",
       "       -0.06424014,  0.02611809, -0.08035917, -0.12821646, -0.02610241,\n",
       "        0.18662699,  0.21294357,  0.48080224,  0.317468  ,  0.05155158,\n",
       "       -0.28942138, -0.09796987, -0.30498716,  0.15167177,  0.02807537,\n",
       "       -0.1481873 , -0.01503494, -0.0555877 , -0.18408059,  0.08716944,\n",
       "       -0.35796708, -0.34607562, -0.04094088, -0.23185536, -0.09223112,\n",
       "       -0.22879602,  0.18016371, -0.23503947, -0.30087852,  0.13037454,\n",
       "        0.00062188,  0.01908671,  0.2208184 ,  0.10833158, -0.05694768],\n",
       "      dtype=float32)"
      ]
     },
     "execution_count": 14,
     "metadata": {},
     "output_type": "execute_result"
    }
   ],
   "source": [
    "word_vectors['the']"
   ]
  },
  {
   "cell_type": "code",
   "execution_count": 15,
   "metadata": {},
   "outputs": [
    {
     "data": {
      "text/plain": [
       "[('novels', 0.9809719920158386),\n",
       " ('articles', 0.9724070429801941),\n",
       " ('poems', 0.9717661142349243),\n",
       " ('paintings', 0.970707356929779),\n",
       " ('stories', 0.9705720543861389),\n",
       " ('compositions', 0.9633492231369019),\n",
       " ('papers', 0.963097095489502),\n",
       " ('others', 0.9611388444900513),\n",
       " ('pieces', 0.9607668519020081),\n",
       " ('videos', 0.960437536239624)]"
      ]
     },
     "execution_count": 15,
     "metadata": {},
     "output_type": "execute_result"
    }
   ],
   "source": [
    "word_vectors.similar_by_word(\"books\")"
   ]
  },
  {
   "cell_type": "code",
   "execution_count": 16,
   "metadata": {},
   "outputs": [],
   "source": [
    "def get_analogy(a, b, c):\n",
    "    return word_vectors.most_similar(positive=[b, c], negative=[a])"
   ]
  },
  {
   "cell_type": "code",
   "execution_count": 17,
   "metadata": {},
   "outputs": [
    {
     "data": {
      "text/plain": [
       "[('jewish', 0.9412981271743774),\n",
       " ('queen', 0.9380686283111572),\n",
       " ('roman', 0.919913649559021),\n",
       " ('christian', 0.9194426536560059),\n",
       " ('church', 0.91877281665802),\n",
       " ('catholic', 0.90057772397995),\n",
       " ('lord', 0.8952214121818542),\n",
       " ('merchant', 0.885901927947998),\n",
       " ('christ', 0.8858672976493835),\n",
       " ('historian', 0.8825202584266663)]"
      ]
     },
     "execution_count": 17,
     "metadata": {},
     "output_type": "execute_result"
    }
   ],
   "source": [
    "get_analogy('man', 'woman', 'king')"
   ]
  },
  {
   "cell_type": "code",
   "execution_count": 19,
   "metadata": {},
   "outputs": [],
   "source": [
    "import pandas as pd"
   ]
  },
  {
   "cell_type": "code",
   "execution_count": 20,
   "metadata": {},
   "outputs": [
    {
     "data": {
      "text/html": [
       "<div>\n",
       "<style scoped>\n",
       "    .dataframe tbody tr th:only-of-type {\n",
       "        vertical-align: middle;\n",
       "    }\n",
       "\n",
       "    .dataframe tbody tr th {\n",
       "        vertical-align: top;\n",
       "    }\n",
       "\n",
       "    .dataframe thead th {\n",
       "        text-align: right;\n",
       "    }\n",
       "</style>\n",
       "<table border=\"1\" class=\"dataframe\">\n",
       "  <thead>\n",
       "    <tr style=\"text-align: right;\">\n",
       "      <th></th>\n",
       "      <th>word1</th>\n",
       "      <th>word2</th>\n",
       "      <th>sim</th>\n",
       "    </tr>\n",
       "  </thead>\n",
       "  <tbody>\n",
       "    <tr>\n",
       "      <th>0</th>\n",
       "      <td>old</td>\n",
       "      <td>new</td>\n",
       "      <td>NaN</td>\n",
       "    </tr>\n",
       "    <tr>\n",
       "      <th>1</th>\n",
       "      <td>smart</td>\n",
       "      <td>intelligent</td>\n",
       "      <td>NaN</td>\n",
       "    </tr>\n",
       "    <tr>\n",
       "      <th>2</th>\n",
       "      <td>hard</td>\n",
       "      <td>difficult</td>\n",
       "      <td>NaN</td>\n",
       "    </tr>\n",
       "    <tr>\n",
       "      <th>3</th>\n",
       "      <td>happy</td>\n",
       "      <td>cheerful</td>\n",
       "      <td>NaN</td>\n",
       "    </tr>\n",
       "    <tr>\n",
       "      <th>4</th>\n",
       "      <td>hard</td>\n",
       "      <td>easy</td>\n",
       "      <td>NaN</td>\n",
       "    </tr>\n",
       "    <tr>\n",
       "      <th>...</th>\n",
       "      <td>...</td>\n",
       "      <td>...</td>\n",
       "      <td>...</td>\n",
       "    </tr>\n",
       "    <tr>\n",
       "      <th>1625</th>\n",
       "      <td>relatives</td>\n",
       "      <td>sister</td>\n",
       "      <td>NaN</td>\n",
       "    </tr>\n",
       "    <tr>\n",
       "      <th>1626</th>\n",
       "      <td>relatives</td>\n",
       "      <td>she</td>\n",
       "      <td>NaN</td>\n",
       "    </tr>\n",
       "    <tr>\n",
       "      <th>1627</th>\n",
       "      <td>relatives</td>\n",
       "      <td>her</td>\n",
       "      <td>NaN</td>\n",
       "    </tr>\n",
       "    <tr>\n",
       "      <th>1628</th>\n",
       "      <td>relatives</td>\n",
       "      <td>hers</td>\n",
       "      <td>NaN</td>\n",
       "    </tr>\n",
       "    <tr>\n",
       "      <th>1629</th>\n",
       "      <td>relatives</td>\n",
       "      <td>daughter</td>\n",
       "      <td>NaN</td>\n",
       "    </tr>\n",
       "  </tbody>\n",
       "</table>\n",
       "<p>1630 rows × 3 columns</p>\n",
       "</div>"
      ],
      "text/plain": [
       "          word1        word2  sim\n",
       "0           old          new  NaN\n",
       "1         smart  intelligent  NaN\n",
       "2          hard    difficult  NaN\n",
       "3         happy     cheerful  NaN\n",
       "4          hard         easy  NaN\n",
       "...         ...          ...  ...\n",
       "1625  relatives       sister  NaN\n",
       "1626  relatives          she  NaN\n",
       "1627  relatives          her  NaN\n",
       "1628  relatives         hers  NaN\n",
       "1629  relatives     daughter  NaN\n",
       "\n",
       "[1630 rows x 3 columns]"
      ]
     },
     "execution_count": 20,
     "metadata": {},
     "output_type": "execute_result"
    }
   ],
   "source": [
    "word_pair_df = pd.read_csv(\"word_pair_similarity_predictions.csv\")\n",
    "word_pair_df"
   ]
  },
  {
   "cell_type": "code",
   "execution_count": 21,
   "metadata": {},
   "outputs": [],
   "source": [
    "from scipy.spatial.distance import cosine"
   ]
  },
  {
   "cell_type": "code",
   "execution_count": 23,
   "metadata": {},
   "outputs": [],
   "source": [
    "def compute_cosine_similarity(embedding_one, embedding_two):\n",
    "    '''\n",
    "    Computes the cosine similarity between the two words\n",
    "    '''\n",
    "\n",
    "    similarity = 1 - abs(float(cosine(embedding_one,\n",
    "                                      embedding_two)))\n",
    "    return similarity"
   ]
  },
  {
   "cell_type": "code",
   "execution_count": 24,
   "metadata": {},
   "outputs": [],
   "source": [
    "for i in range(len(word_pair_df)):\n",
    "    word_pair_df.loc[i, \"sim\"] = compute_cosine_similarity(word_vectors[word_pair_df.loc[i, \"word1\"]], word_vectors[word_pair_df.loc[i, \"word2\"]])"
   ]
  },
  {
   "cell_type": "code",
   "execution_count": 25,
   "metadata": {},
   "outputs": [
    {
     "data": {
      "text/html": [
       "<div>\n",
       "<style scoped>\n",
       "    .dataframe tbody tr th:only-of-type {\n",
       "        vertical-align: middle;\n",
       "    }\n",
       "\n",
       "    .dataframe tbody tr th {\n",
       "        vertical-align: top;\n",
       "    }\n",
       "\n",
       "    .dataframe thead th {\n",
       "        text-align: right;\n",
       "    }\n",
       "</style>\n",
       "<table border=\"1\" class=\"dataframe\">\n",
       "  <thead>\n",
       "    <tr style=\"text-align: right;\">\n",
       "      <th></th>\n",
       "      <th>word1</th>\n",
       "      <th>word2</th>\n",
       "      <th>sim</th>\n",
       "    </tr>\n",
       "  </thead>\n",
       "  <tbody>\n",
       "    <tr>\n",
       "      <th>0</th>\n",
       "      <td>old</td>\n",
       "      <td>new</td>\n",
       "      <td>0.273122</td>\n",
       "    </tr>\n",
       "    <tr>\n",
       "      <th>1</th>\n",
       "      <td>smart</td>\n",
       "      <td>intelligent</td>\n",
       "      <td>0.963854</td>\n",
       "    </tr>\n",
       "    <tr>\n",
       "      <th>2</th>\n",
       "      <td>hard</td>\n",
       "      <td>difficult</td>\n",
       "      <td>0.816973</td>\n",
       "    </tr>\n",
       "    <tr>\n",
       "      <th>3</th>\n",
       "      <td>happy</td>\n",
       "      <td>cheerful</td>\n",
       "      <td>0.781015</td>\n",
       "    </tr>\n",
       "    <tr>\n",
       "      <th>4</th>\n",
       "      <td>hard</td>\n",
       "      <td>easy</td>\n",
       "      <td>0.897915</td>\n",
       "    </tr>\n",
       "    <tr>\n",
       "      <th>...</th>\n",
       "      <td>...</td>\n",
       "      <td>...</td>\n",
       "      <td>...</td>\n",
       "    </tr>\n",
       "    <tr>\n",
       "      <th>1625</th>\n",
       "      <td>relatives</td>\n",
       "      <td>sister</td>\n",
       "      <td>0.781331</td>\n",
       "    </tr>\n",
       "    <tr>\n",
       "      <th>1626</th>\n",
       "      <td>relatives</td>\n",
       "      <td>she</td>\n",
       "      <td>0.549845</td>\n",
       "    </tr>\n",
       "    <tr>\n",
       "      <th>1627</th>\n",
       "      <td>relatives</td>\n",
       "      <td>her</td>\n",
       "      <td>0.772994</td>\n",
       "    </tr>\n",
       "    <tr>\n",
       "      <th>1628</th>\n",
       "      <td>relatives</td>\n",
       "      <td>hers</td>\n",
       "      <td>0.897313</td>\n",
       "    </tr>\n",
       "    <tr>\n",
       "      <th>1629</th>\n",
       "      <td>relatives</td>\n",
       "      <td>daughter</td>\n",
       "      <td>0.628274</td>\n",
       "    </tr>\n",
       "  </tbody>\n",
       "</table>\n",
       "<p>1630 rows × 3 columns</p>\n",
       "</div>"
      ],
      "text/plain": [
       "          word1        word2       sim\n",
       "0           old          new  0.273122\n",
       "1         smart  intelligent  0.963854\n",
       "2          hard    difficult  0.816973\n",
       "3         happy     cheerful  0.781015\n",
       "4          hard         easy  0.897915\n",
       "...         ...          ...       ...\n",
       "1625  relatives       sister  0.781331\n",
       "1626  relatives          she  0.549845\n",
       "1627  relatives          her  0.772994\n",
       "1628  relatives         hers  0.897313\n",
       "1629  relatives     daughter  0.628274\n",
       "\n",
       "[1630 rows x 3 columns]"
      ]
     },
     "execution_count": 25,
     "metadata": {},
     "output_type": "execute_result"
    }
   ],
   "source": [
    "word_pair_df"
   ]
  },
  {
   "cell_type": "code",
   "execution_count": 26,
   "metadata": {},
   "outputs": [],
   "source": [
    "word_pair_df.to_csv(\"word_pair_similarity_predictions.csv\")"
   ]
  },
  {
   "cell_type": "code",
   "execution_count": null,
   "metadata": {},
   "outputs": [],
   "source": []
  }
 ],
 "metadata": {
  "kernelspec": {
   "display_name": "Python 3",
   "language": "python",
   "name": "python3"
  },
  "language_info": {
   "codemirror_mode": {
    "name": "ipython",
    "version": 3
   },
   "file_extension": ".py",
   "mimetype": "text/x-python",
   "name": "python",
   "nbconvert_exporter": "python",
   "pygments_lexer": "ipython3",
   "version": "3.7.11"
  }
 },
 "nbformat": 4,
 "nbformat_minor": 2
}
